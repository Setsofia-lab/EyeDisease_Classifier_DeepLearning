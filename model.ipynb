{
 "cells": [
  {
   "cell_type": "code",
   "execution_count": 3,
   "metadata": {},
   "outputs": [],
   "source": [
    "import os\n",
    "import shutil\n",
    "import numpy as np\n",
    "from sklearn.model_selection import train_test_split\n",
    "\n",
    "# Define paths\n",
    "data_dir = '/Users/samuelsetsofia/dev/projects/EyeDisease_Classifier_DeepLearning/dataset'\n",
    "classes = ['cataract', 'glaucoma', 'diabetic_retinopathy', 'normal']\n",
    "\n",
    "# Create train, val, and test folders\n",
    "output_dir = '/Users/samuelsetsofia/dev/projects/EyeDisease_Classifier_DeepLearning/output_dir'\n",
    "os.makedirs(output_dir, exist_ok=True)\n",
    "for folder in ['train', 'val', 'test']:\n",
    "    for cls in classes:\n",
    "        os.makedirs(os.path.join(output_dir, folder, cls), exist_ok=True)\n",
    "\n",
    "# Split files\n",
    "for cls in classes:\n",
    "    class_path = os.path.join(data_dir, cls)\n",
    "    files = np.array(os.listdir(class_path))\n",
    "    train_files, temp_files = train_test_split(files, test_size=0.3, random_state=42)\n",
    "    val_files, test_files = train_test_split(temp_files, test_size=0.5, random_state=42)\n",
    "\n",
    "    for file_list, folder in zip([train_files, val_files, test_files], ['train', 'val', 'test']):\n",
    "        for file in file_list:\n",
    "            shutil.copy(os.path.join(class_path, file), os.path.join(output_dir, folder, cls))"
   ]
  },
  {
   "cell_type": "markdown",
   "metadata": {},
   "source": [
    "### Load and Preprocess Images"
   ]
  },
  {
   "cell_type": "code",
   "execution_count": 4,
   "metadata": {},
   "outputs": [
    {
     "name": "stdout",
     "output_type": "stream",
     "text": [
      "Found 2949 files belonging to 4 classes.\n",
      "Found 633 files belonging to 4 classes.\n",
      "Found 635 files belonging to 4 classes.\n"
     ]
    }
   ],
   "source": [
    "import tensorflow as tf\n",
    "\n",
    "train_dir = '/Users/samuelsetsofia/dev/projects/EyeDisease_Classifier_DeepLearning/output_dir/train'\n",
    "val_dir = '/Users/samuelsetsofia/dev/projects/EyeDisease_Classifier_DeepLearning/output_dir/val'\n",
    "test_dir = '/Users/samuelsetsofia/dev/projects/EyeDisease_Classifier_DeepLearning/output_dir/test'\n",
    "\n",
    "batch_size = 32\n",
    "img_height = 224\n",
    "img_width = 224\n",
    "\n",
    "train_ds = tf.keras.preprocessing.image_dataset_from_directory(\n",
    "    train_dir,\n",
    "    image_size=(img_height, img_width),\n",
    "    batch_size=batch_size)\n",
    "\n",
    "val_ds = tf.keras.preprocessing.image_dataset_from_directory(\n",
    "    val_dir,\n",
    "    image_size=(img_height, img_width),\n",
    "    batch_size=batch_size)\n",
    "\n",
    "test_ds = tf.keras.preprocessing.image_dataset_from_directory(\n",
    "    test_dir,\n",
    "    image_size=(img_height, img_width),\n",
    "    batch_size=batch_size)"
   ]
  },
  {
   "cell_type": "markdown",
   "metadata": {},
   "source": [
    "### Model 1: VGG16 (Transfer Learning)\n",
    "A deep convolutional neural network architecture that is effective for image classification tasks."
   ]
  },
  {
   "cell_type": "code",
   "execution_count": 5,
   "metadata": {},
   "outputs": [
    {
     "name": "stdout",
     "output_type": "stream",
     "text": [
      "Downloading data from https://storage.googleapis.com/tensorflow/keras-applications/vgg16/vgg16_weights_tf_dim_ordering_tf_kernels_notop.h5\n",
      "\u001b[1m58889256/58889256\u001b[0m \u001b[32m━━━━━━━━━━━━━━━━━━━━\u001b[0m\u001b[37m\u001b[0m \u001b[1m12s\u001b[0m 0us/step\n",
      "Epoch 1/10\n",
      "\u001b[1m93/93\u001b[0m \u001b[32m━━━━━━━━━━━━━━━━━━━━\u001b[0m\u001b[37m\u001b[0m \u001b[1m244s\u001b[0m 3s/step - accuracy: 0.6266 - loss: 10.9791 - val_accuracy: 0.7788 - val_loss: 0.5804\n",
      "Epoch 2/10\n",
      "\u001b[1m93/93\u001b[0m \u001b[32m━━━━━━━━━━━━━━━━━━━━\u001b[0m\u001b[37m\u001b[0m \u001b[1m245s\u001b[0m 3s/step - accuracy: 0.7895 - loss: 0.5918 - val_accuracy: 0.8436 - val_loss: 0.4252\n",
      "Epoch 3/10\n",
      "\u001b[1m93/93\u001b[0m \u001b[32m━━━━━━━━━━━━━━━━━━━━\u001b[0m\u001b[37m\u001b[0m \u001b[1m235s\u001b[0m 3s/step - accuracy: 0.8059 - loss: 0.4783 - val_accuracy: 0.8468 - val_loss: 0.4794\n",
      "Epoch 4/10\n",
      "\u001b[1m93/93\u001b[0m \u001b[32m━━━━━━━━━━━━━━━━━━━━\u001b[0m\u001b[37m\u001b[0m \u001b[1m238s\u001b[0m 3s/step - accuracy: 0.8082 - loss: 0.4721 - val_accuracy: 0.8531 - val_loss: 0.3756\n",
      "Epoch 5/10\n",
      "\u001b[1m93/93\u001b[0m \u001b[32m━━━━━━━━━━━━━━━━━━━━\u001b[0m\u001b[37m\u001b[0m \u001b[1m242s\u001b[0m 3s/step - accuracy: 0.8297 - loss: 0.4243 - val_accuracy: 0.8799 - val_loss: 0.3650\n",
      "Epoch 6/10\n",
      "\u001b[1m93/93\u001b[0m \u001b[32m━━━━━━━━━━━━━━━━━━━━\u001b[0m\u001b[37m\u001b[0m \u001b[1m234s\u001b[0m 3s/step - accuracy: 0.8558 - loss: 0.3562 - val_accuracy: 0.8752 - val_loss: 0.3620\n",
      "Epoch 7/10\n",
      "\u001b[1m93/93\u001b[0m \u001b[32m━━━━━━━━━━━━━━━━━━━━\u001b[0m\u001b[37m\u001b[0m \u001b[1m233s\u001b[0m 3s/step - accuracy: 0.8915 - loss: 0.2973 - val_accuracy: 0.8894 - val_loss: 0.3735\n",
      "Epoch 8/10\n",
      "\u001b[1m93/93\u001b[0m \u001b[32m━━━━━━━━━━━━━━━━━━━━\u001b[0m\u001b[37m\u001b[0m \u001b[1m232s\u001b[0m 2s/step - accuracy: 0.8754 - loss: 0.2684 - val_accuracy: 0.8768 - val_loss: 0.4410\n",
      "Epoch 9/10\n",
      "\u001b[1m93/93\u001b[0m \u001b[32m━━━━━━━━━━━━━━━━━━━━\u001b[0m\u001b[37m\u001b[0m \u001b[1m224s\u001b[0m 2s/step - accuracy: 0.8842 - loss: 0.3071 - val_accuracy: 0.8641 - val_loss: 0.3828\n",
      "Epoch 10/10\n",
      "\u001b[1m93/93\u001b[0m \u001b[32m━━━━━━━━━━━━━━━━━━━━\u001b[0m\u001b[37m\u001b[0m \u001b[1m221s\u001b[0m 2s/step - accuracy: 0.8503 - loss: 0.3901 - val_accuracy: 0.8847 - val_loss: 0.4768\n"
     ]
    }
   ],
   "source": [
    "from tensorflow.keras.applications import VGG16\n",
    "from tensorflow.keras import layers, models\n",
    "\n",
    "base_model = VGG16(input_shape=(img_height, img_width, 3), include_top=False, weights='imagenet')\n",
    "base_model.trainable = False\n",
    "\n",
    "model_vgg16 = models.Sequential([\n",
    "    base_model,\n",
    "    layers.Flatten(),\n",
    "    layers.Dense(256, activation='relu'),\n",
    "    layers.Dropout(0.5),\n",
    "    layers.Dense(4, activation='softmax')  # 4 classes\n",
    "])\n",
    "\n",
    "model_vgg16.compile(optimizer='adam',\n",
    "              loss='sparse_categorical_crossentropy',\n",
    "              metrics=['accuracy'])\n",
    "\n",
    "history_vgg16 = model_vgg16.fit(train_ds, validation_data=val_ds, epochs=10)"
   ]
  },
  {
   "cell_type": "markdown",
   "metadata": {},
   "source": [
    "### Model 2: ResNet50 (Transfer Learning)\n",
    "A residual network that enables deeper networks by addressing vanishing gradient issues."
   ]
  },
  {
   "cell_type": "code",
   "execution_count": null,
   "metadata": {},
   "outputs": [],
   "source": [
    "from tensorflow.keras.applications import ResNet50\n",
    "\n",
    "base_model = ResNet50(input_shape=(img_height, img_width, 3), include_top=False, weights='imagenet')\n",
    "base_model.trainable = False\n",
    "\n",
    "model_resnet50 = models.Sequential([\n",
    "    base_model,\n",
    "    layers.GlobalAveragePooling2D(),\n",
    "    layers.Dense(256, activation='relu'),\n",
    "    layers.Dropout(0.5),\n",
    "    layers.Dense(4, activation='softmax')\n",
    "])\n",
    "\n",
    "model_resnet50.compile(optimizer='adam',\n",
    "              loss='sparse_categorical_crossentropy',\n",
    "              metrics=['accuracy'])\n",
    "\n",
    "history_resnet50 = model_resnet50.fit(train_ds, validation_data=val_ds, epochs=10)"
   ]
  },
  {
   "cell_type": "markdown",
   "metadata": {},
   "source": [
    "### Model 3: MobileNetV2 (Transfer Learning)\n",
    "A lightweight convolutional neural network suitable for mobile and embedded applications."
   ]
  },
  {
   "cell_type": "code",
   "execution_count": null,
   "metadata": {},
   "outputs": [],
   "source": [
    "from tensorflow.keras.applications import MobileNetV2\n",
    "\n",
    "base_model = MobileNetV2(input_shape=(img_height, img_width, 3), include_top=False, weights='imagenet')\n",
    "base_model.trainable = False\n",
    "\n",
    "model_mobilenetv2 = models.Sequential([\n",
    "    base_model,\n",
    "    layers.GlobalAveragePooling2D(),\n",
    "    layers.Dense(256, activation='relu'),\n",
    "    layers.Dropout(0.5),\n",
    "    layers.Dense(4, activation='softmax')\n",
    "])\n",
    "\n",
    "model_mobilenetv2.compile(optimizer='adam',\n",
    "              loss='sparse_categorical_crossentropy',\n",
    "              metrics=['accuracy'])\n",
    "\n",
    "history_mobilenetv2 = model_mobilenetv2.fit(train_ds, validation_data=val_ds, epochs=10)"
   ]
  },
  {
   "cell_type": "markdown",
   "metadata": {},
   "source": [
    "### Evaluate Model Performance\n",
    "Confusion Matrix: For detailed class-level performance.\n",
    "Precision, Recall, F1-Score: For assessing balance between sensitivity and specificity."
   ]
  },
  {
   "cell_type": "code",
   "execution_count": null,
   "metadata": {},
   "outputs": [],
   "source": [
    "vgg16_loss, vgg16_accuracy = model_vgg16.evaluate(test_ds)\n",
    "resnet50_loss, resnet50_accuracy = model_resnet50.evaluate(test_ds)\n",
    "mobilenetv2_loss, mobilenetv2_accuracy = model_mobilenetv2.evaluate(test_ds)\n",
    "\n",
    "from sklearn.metrics import classification_report, confusion_matrix\n",
    "import numpy as np\n",
    "\n",
    "true_labels = np.concatenate([y for x, y in test_ds], axis=0)\n",
    "\n",
    "vgg16_predictions = np.argmax(model_vgg16.predict(test_ds), axis=1)\n",
    "resnet50_predictions = np.argmax(model_resnet50.predict(test_ds), axis=1)\n",
    "mobilenetv2_predictions = np.argmax(model_mobilenetv2.predict(test_ds), axis=1)\n",
    "\n",
    "# Print classification reports\n",
    "print(\"VGG16:\")\n",
    "print(classification_report(true_labels, vgg16_predictions))\n",
    "print(\"ResNet50:\")\n",
    "print(classification_report(true_labels, resnet50_predictions))\n",
    "print(\"MobileNetV2:\")\n",
    "print(classification_report(true_labels, mobilenetv2_predictions))"
   ]
  }
 ],
 "metadata": {
  "kernelspec": {
   "display_name": "base",
   "language": "python",
   "name": "python3"
  },
  "language_info": {
   "codemirror_mode": {
    "name": "ipython",
    "version": 3
   },
   "file_extension": ".py",
   "mimetype": "text/x-python",
   "name": "python",
   "nbconvert_exporter": "python",
   "pygments_lexer": "ipython3",
   "version": "3.12.2"
  }
 },
 "nbformat": 4,
 "nbformat_minor": 2
}
